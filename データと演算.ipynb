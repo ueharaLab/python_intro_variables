{
 "cells": [
  {
   "cell_type": "markdown",
   "id": "11c8c87f",
   "metadata": {},
   "source": [
    "# 変数の型\n",
    "以下は変数a,bそれぞれに数値、文字列を出力するコーディングである。"
   ]
  },
  {
   "cell_type": "code",
   "execution_count": 1,
   "id": "05583501",
   "metadata": {},
   "outputs": [
    {
     "name": "stdout",
     "output_type": "stream",
     "text": [
      "111\n",
      "今日は晴れ\n"
     ]
    }
   ],
   "source": [
    "a=123\n",
    "print(a)\n",
    "b='今日は晴れ'\n",
    "print(b)"
   ]
  },
  {
   "cell_type": "markdown",
   "id": "276b99ce",
   "metadata": {},
   "source": [
    "上記のbについて1文字目を取り出すには以下のようにコーディングする。"
   ]
  },
  {
   "cell_type": "code",
   "execution_count": 2,
   "id": "a9f7145a",
   "metadata": {},
   "outputs": [
    {
     "name": "stdout",
     "output_type": "stream",
     "text": [
      "今\n"
     ]
    }
   ],
   "source": [
    "c = b[0]\n",
    "print(c)"
   ]
  },
  {
   "cell_type": "markdown",
   "id": "101dd03c",
   "metadata": {},
   "source": [
    "1. 上記のbから'晴'の1文字を取り出せ\n",
    "2. 上記のaから1だけを取り出すにはどうしたらよいか"
   ]
  },
  {
   "cell_type": "code",
   "execution_count": 3,
   "id": "3802a311",
   "metadata": {},
   "outputs": [
    {
     "name": "stdout",
     "output_type": "stream",
     "text": [
      "晴\n",
      "1\n"
     ]
    }
   ],
   "source": [
    "\n",
    "\n"
   ]
  },
  {
   "cell_type": "markdown",
   "id": "3c1e6334",
   "metadata": {},
   "source": [
    "1. 以下のa, bを演算子を使って'今日は晴れ'という文字列を表示せよ\n",
    "2. 次に、1.と同様に演算子を使って'今日は5月22日' という文字列を変数 c,d,e,f,gから作成して表示せよ\n",
    "3. .format()を使って、'今日は5月22日'　の5,22を整数値のままで表示せよ"
   ]
  },
  {
   "cell_type": "code",
   "execution_count": 10,
   "id": "d9ab9e54",
   "metadata": {},
   "outputs": [
    {
     "name": "stdout",
     "output_type": "stream",
     "text": [
      "今日は晴れ\n",
      "今日は5月22日\n",
      "今日は5月22日\n"
     ]
    }
   ],
   "source": [
    "a='今日は'\n",
    "b='晴れ'\n",
    "\n",
    "\n",
    "c = '今日は'\n",
    "d = 5\n",
    "e = '月'\n",
    "f = 22\n",
    "g = '日'\n",
    "\n",
    "\n",
    "\n"
   ]
  },
  {
   "cell_type": "markdown",
   "id": "933539aa",
   "metadata": {},
   "source": [
    "# 配列\n",
    "1. 以下のリスト型から、'バター'を取り出せ\n",
    "2. 次に、バターから小麦粉までの部分配列を取り出せ\n"
   ]
  },
  {
   "cell_type": "code",
   "execution_count": 5,
   "id": "8071b9b5",
   "metadata": {},
   "outputs": [],
   "source": [
    "recipe = ['チョコレート','バター', '卵', '砂糖', '小麦粉', '好きジャム']\n"
   ]
  },
  {
   "cell_type": "code",
   "execution_count": 7,
   "id": "9109e3ae",
   "metadata": {},
   "outputs": [
    {
     "name": "stdout",
     "output_type": "stream",
     "text": [
      "バター\n",
      "['バター', '卵', '砂糖', '小麦粉']\n"
     ]
    }
   ],
   "source": []
  },
  {
   "cell_type": "markdown",
   "id": "273a9bb6",
   "metadata": {},
   "source": [
    "1. 以下の2次元配列リスト型から、2行目の配列を取り出せ\n",
    "2. 次に、2行目のチョコ、バターだけを取り出せ\n",
    "3. 同様に、4行目のイチゴを取り出し、更にイチゴのチを取り出せ"
   ]
  },
  {
   "cell_type": "code",
   "execution_count": 6,
   "id": "61b1e027",
   "metadata": {},
   "outputs": [],
   "source": [
    "recipes = [['チョコレート','バター', '卵', '砂糖', '小麦粉', '好きジャム'],\n",
    "['生クリーム', 'チョコ', 'バター', '砂糖', '卵', '小麦粉'],\n",
    "['卵', 'グラニュー', 'チョコレート', '食塩', '小麦粉', '卵白'],\n",
    "['フォンダンショコラ', 'アイスクリーム', 'イチゴ', 'コイン'],\n",
    "['チョコレート', '卵', '砂糖', '小麦粉', 'バター', '生地']]"
   ]
  },
  {
   "cell_type": "code",
   "execution_count": 13,
   "id": "0b68cbff",
   "metadata": {},
   "outputs": [
    {
     "name": "stdout",
     "output_type": "stream",
     "text": [
      "['生クリーム', 'チョコ', 'バター', '砂糖', '卵', '小麦粉']\n",
      "['チョコ', 'バター']\n",
      "イチゴ\n",
      "チ\n"
     ]
    }
   ],
   "source": []
  },
  {
   "cell_type": "code",
   "execution_count": 2,
   "id": "7806e5ba",
   "metadata": {},
   "outputs": [
    {
     "data": {
      "text/plain": [
       "'2'"
      ]
     },
     "execution_count": 2,
     "metadata": {},
     "output_type": "execute_result"
    }
   ],
   "source": [
    "\n"
   ]
  },
  {
   "cell_type": "markdown",
   "id": "26df16d7",
   "metadata": {},
   "source": [
    "上記recipesに以下の1行を加えよ"
   ]
  },
  {
   "cell_type": "code",
   "execution_count": 7,
   "id": "52a5951b",
   "metadata": {},
   "outputs": [],
   "source": [
    "l=['チョコ', 'バター', 'ココア']"
   ]
  },
  {
   "cell_type": "code",
   "execution_count": 8,
   "id": "be78f504",
   "metadata": {},
   "outputs": [
    {
     "data": {
      "text/plain": [
       "[['チョコレート', 'バター', '卵', '砂糖', '小麦粉', '好きジャム'],\n",
       " ['生クリーム', 'チョコ', 'バター', '砂糖', '卵', '小麦粉'],\n",
       " ['卵', 'グラニュー', 'チョコレート', '食塩', '小麦粉', '卵白'],\n",
       " ['フォンダンショコラ', 'アイスクリーム', 'イチゴ', 'コイン'],\n",
       " ['チョコレート', '卵', '砂糖', '小麦粉', 'バター', '生地'],\n",
       " ['チョコ', 'バター', 'ココア']]"
      ]
     },
     "execution_count": 8,
     "metadata": {},
     "output_type": "execute_result"
    }
   ],
   "source": [
    "recipes.append(l)\n",
    "recipes"
   ]
  },
  {
   "cell_type": "code",
   "execution_count": 4,
   "id": "0dc0bb6a",
   "metadata": {},
   "outputs": [
    {
     "data": {
      "text/plain": [
       "['a', 'b', 'c']"
      ]
     },
     "execution_count": 4,
     "metadata": {},
     "output_type": "execute_result"
    }
   ],
   "source": [
    "list=['a','b']\n",
    "list.append('c')\n",
    "list"
   ]
  },
  {
   "cell_type": "code",
   "execution_count": null,
   "id": "4bed892c",
   "metadata": {},
   "outputs": [],
   "source": [
    "以下のリスト要素をつなげて１つの文字列にせよ"
   ]
  },
  {
   "cell_type": "code",
   "execution_count": 27,
   "id": "79ab265a",
   "metadata": {},
   "outputs": [],
   "source": [
    "k = ['今日','の','天気','は','晴れ']"
   ]
  },
  {
   "cell_type": "code",
   "execution_count": 28,
   "id": "283be1bd",
   "metadata": {},
   "outputs": [
    {
     "name": "stdout",
     "output_type": "stream",
     "text": [
      "今日の天気は晴れ\n"
     ]
    }
   ],
   "source": []
  },
  {
   "cell_type": "markdown",
   "id": "e12f4bac",
   "metadata": {},
   "source": [
    "# numpy 配列\n",
    "1. 以下の数値のリストから5を取り出せ\n",
    "2. 5～8を取り出せ\n",
    "3. 以下のリスト型をnumpy型に変換して上記1,2と同じ処理を行え\n",
    "4. 以下のリスト型について、要素を1つ1つ書きこまずにnumpy配列として作成せよ"
   ]
  },
  {
   "cell_type": "code",
   "execution_count": 53,
   "id": "66ec0cf6",
   "metadata": {},
   "outputs": [],
   "source": [
    "a = [0,1,2,3,4,5,6,7,8,9,10,11]\n"
   ]
  },
  {
   "cell_type": "code",
   "execution_count": 11,
   "id": "f0f5c6de",
   "metadata": {},
   "outputs": [
    {
     "data": {
      "text/plain": [
       "array([ 0,  1,  2,  3,  4,  5,  6,  7,  8,  9, 10, 11])"
      ]
     },
     "execution_count": 11,
     "metadata": {},
     "output_type": "execute_result"
    }
   ],
   "source": [
    "import numpy as np\n",
    "np.arange(12)"
   ]
  },
  {
   "cell_type": "code",
   "execution_count": null,
   "id": "e7541990",
   "metadata": {},
   "outputs": [],
   "source": []
  },
  {
   "cell_type": "code",
   "execution_count": null,
   "id": "890e537d",
   "metadata": {},
   "outputs": [],
   "source": [
    "1. 以下の配列から2行目の5.6を取り出せ\n",
    "2. 以下の配列をnumpy型に変換して、1.と同じ処理を行え \n",
    "3. 変換した配列から、5,6,9,10を行列の形式で取り出せ"
   ]
  },
  {
   "cell_type": "code",
   "execution_count": 40,
   "id": "35fa383e",
   "metadata": {},
   "outputs": [],
   "source": [
    "c = [[0,1,2,3],[4,5,6,7],[8,9,10,11]]"
   ]
  },
  {
   "cell_type": "code",
   "execution_count": null,
   "id": "20a8b4be",
   "metadata": {},
   "outputs": [],
   "source": [
    "c[1:3,1:3]"
   ]
  },
  {
   "cell_type": "code",
   "execution_count": 48,
   "id": "daf1f73d",
   "metadata": {},
   "outputs": [
    {
     "name": "stdout",
     "output_type": "stream",
     "text": [
      "[5, 6]\n",
      "[5 6]\n",
      "[[ 5  6]\n",
      " [ 9 10]]\n"
     ]
    }
   ],
   "source": []
  },
  {
   "cell_type": "code",
   "execution_count": null,
   "id": "217a94a0",
   "metadata": {},
   "outputs": [],
   "source": [
    "以下の1次元配列を上記cと同じ2次元配列にnumpyのメソッドを使って変換せよ\n"
   ]
  },
  {
   "cell_type": "code",
   "execution_count": 14,
   "id": "0c81ffe7",
   "metadata": {},
   "outputs": [],
   "source": [
    "e = np.array([0,1,2,3,4,5,6,7,8,9,10,11])\n"
   ]
  },
  {
   "cell_type": "code",
   "execution_count": 15,
   "id": "d204d7a3",
   "metadata": {},
   "outputs": [
    {
     "name": "stdout",
     "output_type": "stream",
     "text": [
      "[[ 0  1  2  3]\n",
      " [ 4  5  6  7]\n",
      " [ 8  9 10 11]]\n"
     ]
    }
   ],
   "source": []
  },
  {
   "cell_type": "code",
   "execution_count": null,
   "id": "3652c742",
   "metadata": {},
   "outputs": [],
   "source": [
    "同様にして以下のような3次元配列に変換せよ"
   ]
  },
  {
   "cell_type": "code",
   "execution_count": 16,
   "id": "1a01a20d",
   "metadata": {},
   "outputs": [
    {
     "name": "stdout",
     "output_type": "stream",
     "text": [
      "[[[ 0  1]\n",
      "  [ 2  3]\n",
      "  [ 4  5]]\n",
      "\n",
      " [[ 6  7]\n",
      "  [ 8  9]\n",
      "  [10 11]]]\n"
     ]
    }
   ],
   "source": [
    "\n"
   ]
  },
  {
   "cell_type": "code",
   "execution_count": null,
   "id": "91b42f91",
   "metadata": {},
   "outputs": [],
   "source": [
    "1. 上記3次元配列から2つ目の行列中の9を取り出せ\n",
    "2. 同様に1つ目の行列中の2 3を取り出せ"
   ]
  },
  {
   "cell_type": "code",
   "execution_count": 50,
   "id": "438a4417",
   "metadata": {},
   "outputs": [
    {
     "name": "stdout",
     "output_type": "stream",
     "text": [
      "9\n",
      "[2 3]\n"
     ]
    }
   ],
   "source": []
  },
  {
   "cell_type": "markdown",
   "id": "2b779861",
   "metadata": {},
   "source": [
    "# 連結\n",
    "1. 1次元配列 gを、2次元配列（行列）eの最下行に追加せよ\n",
    "2. 1次元配列 hを、eの左に１列追加せよ  \n",
    "ヒント：np.concatenateを使う"
   ]
  },
  {
   "cell_type": "code",
   "execution_count": 21,
   "id": "799abf83",
   "metadata": {},
   "outputs": [
    {
     "name": "stdout",
     "output_type": "stream",
     "text": [
      "[[ 0  1  2  3]\n",
      " [ 4  5  6  7]\n",
      " [ 8  9 10 11]\n",
      " [ 1  2  3  4]]\n",
      "[[ 0  1  2  3  1]\n",
      " [ 4  5  6  7  2]\n",
      " [ 8  9 10 11  3]]\n"
     ]
    }
   ],
   "source": [
    "import numpy as np\n",
    "e=np.arange(12).reshape(3,4)\n",
    "g=np.array([1,2,3,4])\n",
    "h=np.array([1,2,3])\n"
   ]
  },
  {
   "cell_type": "markdown",
   "id": "905ad5ec",
   "metadata": {},
   "source": [
    "# インデックスの取得\n",
    "1. 上記の2次元配列 e について行毎に最大値を取り出せ\n",
    "2. 同様にして行毎に最大値のインデックス（列番号）を取り出せ\n",
    "3. e について列毎に最大値を取り出せ\n",
    "4. 同様にして列毎に最大値のインデックス（行番号）を取り出せ\n",
    "5. e について3の倍数だけを取り出せ\n",
    "6. e について3の倍数のインデックスを取り出せ\n"
   ]
  },
  {
   "cell_type": "code",
   "execution_count": 25,
   "id": "4622000e",
   "metadata": {},
   "outputs": [
    {
     "name": "stdout",
     "output_type": "stream",
     "text": [
      "[ 3  7 11]\n",
      "[3 3 3]\n",
      "[ 8  9 10 11]\n",
      "[2 2 2 2]\n",
      "[0 3 6 9]\n",
      "(array([0, 0, 1, 2], dtype=int64), array([0, 3, 2, 1], dtype=int64))\n"
     ]
    }
   ],
   "source": []
  },
  {
   "cell_type": "markdown",
   "id": "747a4e4f",
   "metadata": {},
   "source": [
    "# 行列の積\n",
    "1. ベクトル g と行列 e の積を計算せよ\n",
    "2. 行列 e とベクトル h.T の積を計算せよ(.Tは転置)\n",
    "3. g・e・h.T を計算せよ"
   ]
  },
  {
   "cell_type": "code",
   "execution_count": 27,
   "id": "6d9d2fc1",
   "metadata": {},
   "outputs": [
    {
     "name": "stdout",
     "output_type": "stream",
     "text": [
      "[[ 0  1  2]\n",
      " [ 3  4  5]\n",
      " [ 6  7  8]\n",
      " [ 9 10 11]]\n",
      "[60 70 80]\n",
      "[[ 8]\n",
      " [26]\n",
      " [44]\n",
      " [62]]\n",
      "[440]\n"
     ]
    }
   ],
   "source": [
    "e=np.arange(12).reshape(4,3)\n",
    "print(e)\n",
    "g=np.array([1,2,3,4])\n",
    "h=np.array([1,2,3])\n",
    "\n"
   ]
  }
 ],
 "metadata": {
  "kernelspec": {
   "display_name": "Python 3 (ipykernel)",
   "language": "python",
   "name": "python3"
  },
  "language_info": {
   "codemirror_mode": {
    "name": "ipython",
    "version": 3
   },
   "file_extension": ".py",
   "mimetype": "text/x-python",
   "name": "python",
   "nbconvert_exporter": "python",
   "pygments_lexer": "ipython3",
   "version": "3.9.12"
  }
 },
 "nbformat": 4,
 "nbformat_minor": 5
}
