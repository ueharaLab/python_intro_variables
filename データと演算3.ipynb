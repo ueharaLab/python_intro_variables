{
 "cells": [
  {
   "cell_type": "markdown",
   "id": "a33535a4",
   "metadata": {},
   "source": [
    "以下のxとW.Tの積を数式で表すことを考える。数式でベクトルを表現する場合は常に縦ベクトルである。 したがって、xは数式で表すと$x^T$である。  \n",
    "また、行列$A$,$B$の転置は、転置の公式より、$(AB)^T=B^TA^T$のように変換できる。つまり、以下のxとW.Tの積は、公式の右辺に相当する。  \n",
    "そこで、公式の左辺の形式でxとW.Tの積を計算して、結果が同一になることを確認せよ。  \n",
    "この計算は、ニューラルネットワークの何に該当するか？　ノードとエッジを用いて、このコーディングを絵に書いてみよ"
   ]
  },
  {
   "cell_type": "code",
   "execution_count": null,
   "id": "9728375d",
   "metadata": {},
   "outputs": [],
   "source": [
    "import numpy as np\n",
    "x=np.array([1,2,3])\n",
    "W = np.arange(12).reshape(4,3)\n",
    "print(np.dot(x,W.T))"
   ]
  }
 ],
 "metadata": {
  "kernelspec": {
   "display_name": "Python 3 (ipykernel)",
   "language": "python",
   "name": "python3"
  },
  "language_info": {
   "codemirror_mode": {
    "name": "ipython",
    "version": 3
   },
   "file_extension": ".py",
   "mimetype": "text/x-python",
   "name": "python",
   "nbconvert_exporter": "python",
   "pygments_lexer": "ipython3",
   "version": "3.9.12"
  }
 },
 "nbformat": 4,
 "nbformat_minor": 5
}
